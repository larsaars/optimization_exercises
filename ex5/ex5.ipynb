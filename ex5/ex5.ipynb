{
 "cells": [
  {
   "cell_type": "code",
   "execution_count": 1,
   "id": "086920af-1192-4a98-810a-00a6d7576c90",
   "metadata": {},
   "outputs": [],
   "source": [
    "from ortools.linear_solver import pywraplp\n",
    "from urllib.request import urlopen\n",
    "import numpy as np\n",
    "import json"
   ]
  },
  {
   "cell_type": "code",
   "execution_count": 2,
   "id": "65d7723b-91b7-475e-aa3d-9df483b34534",
   "metadata": {},
   "outputs": [],
   "source": [
    "def fetch_json_data(url):\n",
    "    \"\"\"fetches JSON data from a url\n",
    "    \"\"\"\n",
    "    return json.loads(urlopen(url).read())"
   ]
  },
  {
   "cell_type": "code",
   "execution_count": 3,
   "id": "b19b6577-341e-42d3-a7d3-8a13208cdfff",
   "metadata": {},
   "outputs": [],
   "source": [
    "# fetch the roasters in the format\n",
    "# IdPilot, IdCoPilot, IdNavigator\n",
    "# we use different job classes:\n",
    "# 0: Pilot\n",
    "# 1: Copilot\n",
    "# 2: IdNavigator\n",
    "# for each job class the different employees marked with ids\n",
    "# note that ids from different job classes are different persons\n",
    "# i.e. pilot 4 is not the same person as copilot 4\n",
    "possible_roasters = fetch_json_data('https://raw.githubusercontent.com/eineruntervielen/vl-optimierung-daten/master/airline_crew_data.json')"
   ]
  },
  {
   "cell_type": "code",
   "execution_count": 4,
   "id": "1a783bd7-ad1a-4574-8987-8c363fbdb17e",
   "metadata": {},
   "outputs": [
    {
     "data": {
      "text/plain": [
       "{'roster_0': [3, 18, 30],\n",
       " 'roster_1': [4, 4, 36],\n",
       " 'roster_2': [1, 5, 9],\n",
       " 'roster_3': [7, 17, 30],\n",
       " 'roster_4': [10, 23, 23],\n",
       " 'roster_5': [8, 10, 25],\n",
       " 'roster_6': [19, 29, 36],\n",
       " 'roster_7': [3, 4, 17],\n",
       " 'roster_8': [19, 28, 40],\n",
       " 'roster_9': [11, 24, 31],\n",
       " 'roster_10': [18, 30, 33],\n",
       " 'roster_11': [22, 25, 26],\n",
       " 'roster_12': [13, 15, 26],\n",
       " 'roster_13': [21, 27, 28],\n",
       " 'roster_14': [7, 12, 33]}"
      ]
     },
     "execution_count": 4,
     "metadata": {},
     "output_type": "execute_result"
    }
   ],
   "source": [
    "possible_roasters"
   ]
  },
  {
   "cell_type": "markdown",
   "id": "fef8ec82-093e-4bc7-a77f-1e4a1ae5ab75",
   "metadata": {},
   "source": [
    "## optimization task\n",
    "\n",
    "Maximize the number of roasters used with the constraint that each person can only be present in one roaster at a time."
   ]
  },
  {
   "cell_type": "code",
   "execution_count": 5,
   "id": "fe96e9d9-9627-427f-adc4-f1d9feaf0c3f",
   "metadata": {},
   "outputs": [],
   "source": [
    "# define the solver\n",
    "solver = pywraplp.Solver('RoasterSolver', pywraplp.Solver.CBC_MIXED_INTEGER_PROGRAMMING)"
   ]
  },
  {
   "cell_type": "code",
   "execution_count": 6,
   "id": "6ea1d7e8-dc1d-41ad-8a15-46d15c903bef",
   "metadata": {},
   "outputs": [],
   "source": [
    "# define decision variables\n",
    "# for each roaster there's one decision variable (a bool) whether the\n",
    "# roaster at the given index shall be used or not\n",
    "decision_vars = [solver.IntVar(0, 1, roaster) for roaster in possible_roasters]"
   ]
  },
  {
   "cell_type": "code",
   "execution_count": 7,
   "id": "0ba7bf73-fd06-4073-b3f0-93605986de35",
   "metadata": {},
   "outputs": [],
   "source": [
    "# create for each job class\n",
    "# a list of all employees\n",
    "all_employees = list(zip(*possible_roasters.values()))"
   ]
  },
  {
   "cell_type": "code",
   "execution_count": 15,
   "id": "6b1e4315-3dca-49a4-8969-9d0e30186b92",
   "metadata": {},
   "outputs": [
    {
     "name": "stdout",
     "output_type": "stream",
     "text": [
      "8 constraints created\n"
     ]
    }
   ],
   "source": [
    "# define constraints\n",
    "num_constraints = 0\n",
    "# loop through all three job classes\n",
    "for job_class in range(len(all_employees)):\n",
    "    # since the goal is to maximize the number of roasters,\n",
    "    # and the contstrant is that one person can only be present\n",
    "    # in one roaster at a time\n",
    "    # build the constrains by looping through\n",
    "    # all job classes and then finding\n",
    "    # for each employee if he/she is represented in mulitple roasters\n",
    "    # if so, add the contraints which roasters can only be used at the same time\n",
    "    # (because one person would be in multiple if they were both used)\n",
    "    # i.e.\n",
    "    # if pilot 4 is in roaster 10 and 12 -->\n",
    "    # decision_vars[9] + decision_vars[11] <= 1\n",
    "    \n",
    "    \n",
    "    # loop through each employee of the job class once\n",
    "    for current_employee in np.unique(all_employees[job_class]):\n",
    "        # list of (overlapping) roasters \n",
    "        # in form of decision variables for current employee\n",
    "        vars_list = []\n",
    "        \n",
    "        # find occurences of current employee in all possible roasters\n",
    "        # and add vars to list\n",
    "        for roaster_name, x in zip(possible_roasters, decision_vars):  # x as decision var\n",
    "            if possible_roasters[roaster_name][job_class] == current_employee:\n",
    "                vars_list.append(x)\n",
    "    \n",
    "        # every employee can only be included in one roaster\n",
    "        # add the contraint only if it matters (if the employee is only represented\n",
    "        # in 0 or 1 roasters there's no contraint for him/her)\n",
    "        if len(vars_list) > 1:\n",
    "            num_constraints += 1\n",
    "            solver.Add(sum(vars_list) <= 1)\n",
    "\n",
    "print(f'{num_constraints} constraints created')"
   ]
  },
  {
   "cell_type": "code",
   "execution_count": 16,
   "id": "6e2074de-5bf8-46b9-b34c-c0820bdca97a",
   "metadata": {},
   "outputs": [],
   "source": [
    "# define goal:\n",
    "# maximize the number of roasters used\n",
    "solver.Maximize(sum(decision_vars))"
   ]
  },
  {
   "cell_type": "code",
   "execution_count": 17,
   "id": "f9efc9e3-756b-47de-a647-f55af853d069",
   "metadata": {},
   "outputs": [],
   "source": [
    "# solve the MIP\n",
    "status = solver.Solve()"
   ]
  },
  {
   "cell_type": "code",
   "execution_count": 18,
   "id": "f76ff38c-d2fd-481e-8809-f71d21f0ec3e",
   "metadata": {},
   "outputs": [
    {
     "name": "stdout",
     "output_type": "stream",
     "text": [
      "\n",
      "Solution:\n",
      "Objective value = 10.0\n",
      "Choosen Roasters:\n",
      "roster_0\n",
      "roster_1\n",
      "roster_2\n",
      "roster_4\n",
      "roster_5\n",
      "roster_8\n",
      "roster_9\n",
      "roster_10\n",
      "roster_11\n",
      "roster_13\n"
     ]
    }
   ],
   "source": [
    "# dislay solution\n",
    "if status == pywraplp.Solver.OPTIMAL:\n",
    "    print('\\nSolution:')\n",
    "    print('Objective value =', solver.Objective().Value())\n",
    "    print('Choosen Roasters:')\n",
    "    \n",
    "    for decisionVar in decision_vars:\n",
    "        if decisionVar.solution_value():\n",
    "            print(decisionVar)\n",
    "else:\n",
    "    print('The problem does not have an optimal solution.')\n"
   ]
  },
  {
   "cell_type": "code",
   "execution_count": null,
   "id": "0e18c4bf-0ee3-4556-92b5-a89dfe7b43dd",
   "metadata": {},
   "outputs": [],
   "source": []
  }
 ],
 "metadata": {
  "kernelspec": {
   "display_name": "Python 3 (ipykernel)",
   "language": "python",
   "name": "python3"
  },
  "language_info": {
   "codemirror_mode": {
    "name": "ipython",
    "version": 3
   },
   "file_extension": ".py",
   "mimetype": "text/x-python",
   "name": "python",
   "nbconvert_exporter": "python",
   "pygments_lexer": "ipython3",
   "version": "3.10.9"
  }
 },
 "nbformat": 4,
 "nbformat_minor": 5
}
