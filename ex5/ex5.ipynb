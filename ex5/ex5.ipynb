{
 "cells": [
  {
   "cell_type": "code",
   "execution_count": 31,
   "id": "086920af-1192-4a98-810a-00a6d7576c90",
   "metadata": {},
   "outputs": [],
   "source": [
    "from ortools.linear_solver import pywraplp\n",
    "from urllib.request import urlopen\n",
    "import numpy as np\n",
    "import json"
   ]
  },
  {
   "cell_type": "code",
   "execution_count": 16,
   "id": "65d7723b-91b7-475e-aa3d-9df483b34534",
   "metadata": {},
   "outputs": [],
   "source": [
    "def fetch_json_data(url):\n",
    "    \"\"\"fetches JSON data from a url\n",
    "    \"\"\"\n",
    "    return json.loads(urlopen(url).read())"
   ]
  },
  {
   "cell_type": "code",
   "execution_count": 18,
   "id": "b19b6577-341e-42d3-a7d3-8a13208cdfff",
   "metadata": {},
   "outputs": [],
   "source": [
    "possible_roasters = fetch_json_data('https://raw.githubusercontent.com/eineruntervielen/vl-optimierung-daten/master/airline_crew_data.json')"
   ]
  },
  {
   "cell_type": "code",
   "execution_count": 20,
   "id": "1a783bd7-ad1a-4574-8987-8c363fbdb17e",
   "metadata": {},
   "outputs": [
    {
     "data": {
      "text/plain": [
       "{'roster_0': [3, 18, 30],\n",
       " 'roster_1': [4, 4, 36],\n",
       " 'roster_2': [1, 5, 9],\n",
       " 'roster_3': [7, 17, 30],\n",
       " 'roster_4': [10, 23, 23],\n",
       " 'roster_5': [8, 10, 25],\n",
       " 'roster_6': [19, 29, 36],\n",
       " 'roster_7': [3, 4, 17],\n",
       " 'roster_8': [19, 28, 40],\n",
       " 'roster_9': [11, 24, 31],\n",
       " 'roster_10': [18, 30, 33],\n",
       " 'roster_11': [22, 25, 26],\n",
       " 'roster_12': [13, 15, 26],\n",
       " 'roster_13': [21, 27, 28],\n",
       " 'roster_14': [7, 12, 33]}"
      ]
     },
     "execution_count": 20,
     "metadata": {},
     "output_type": "execute_result"
    }
   ],
   "source": [
    "possible_roasters"
   ]
  },
  {
   "cell_type": "code",
   "execution_count": 25,
   "id": "fe96e9d9-9627-427f-adc4-f1d9feaf0c3f",
   "metadata": {},
   "outputs": [],
   "source": [
    "# define the solver\n",
    "solver = pywraplp.Solver('RoasterSolver', pywraplp.Solver.CBC_MIXED_INTEGER_PROGRAMMING)"
   ]
  },
  {
   "cell_type": "code",
   "execution_count": 29,
   "id": "6ea1d7e8-dc1d-41ad-8a15-46d15c903bef",
   "metadata": {},
   "outputs": [],
   "source": [
    "# define decision variables\n",
    "decision_vars = []\n",
    "for roaster in possible_roasters:\n",
    "    decision_vars.append(solver.IntVar(0, 1, roaster))"
   ]
  },
  {
   "cell_type": "code",
   "execution_count": 32,
   "id": "6b1e4315-3dca-49a4-8969-9d0e30186b92",
   "metadata": {},
   "outputs": [
    {
     "ename": "IndentationError",
     "evalue": "expected an indented block after 'for' statement on line 5 (2610798160.py, line 9)",
     "output_type": "error",
     "traceback": [
      "\u001b[0;36m  Cell \u001b[0;32mIn[32], line 9\u001b[0;36m\u001b[0m\n\u001b[0;31m    solver.Add(occurences <= 1)\u001b[0m\n\u001b[0m    ^\u001b[0m\n\u001b[0;31mIndentationError\u001b[0m\u001b[0;31m:\u001b[0m expected an indented block after 'for' statement on line 5\n"
     ]
    }
   ],
   "source": [
    "# define constraints\n",
    "for job_class in range(3):\n",
    "    # get the number of occurences for each job\n",
    "    # i.e. the number of occurences of person 3 in the pilot job class\n",
    "    for roaster in possible_roasters:\n",
    "        \n",
    "    \n",
    "    # every employee can only be included in one roaster\n",
    "    solver.Add(occurences <= 1)"
   ]
  },
  {
   "cell_type": "code",
   "execution_count": 33,
   "id": "6e2074de-5bf8-46b9-b34c-c0820bdca97a",
   "metadata": {},
   "outputs": [],
   "source": [
    "# maximize the number of roasters used\n",
    "# define goal\n",
    "solver.Maximize(sum(decision_vars))"
   ]
  },
  {
   "cell_type": "code",
   "execution_count": 34,
   "id": "f9efc9e3-756b-47de-a647-f55af853d069",
   "metadata": {},
   "outputs": [],
   "source": [
    "# solve the MIP\n",
    "status = solver.Solve()"
   ]
  },
  {
   "cell_type": "code",
   "execution_count": null,
   "id": "f76ff38c-d2fd-481e-8809-f71d21f0ec3e",
   "metadata": {},
   "outputs": [],
   "source": [
    "# dislay solution"
   ]
  }
 ],
 "metadata": {
  "kernelspec": {
   "display_name": "Python 3 (ipykernel)",
   "language": "python",
   "name": "python3"
  },
  "language_info": {
   "codemirror_mode": {
    "name": "ipython",
    "version": 3
   },
   "file_extension": ".py",
   "mimetype": "text/x-python",
   "name": "python",
   "nbconvert_exporter": "python",
   "pygments_lexer": "ipython3",
   "version": "3.10.9"
  }
 },
 "nbformat": 4,
 "nbformat_minor": 5
}
