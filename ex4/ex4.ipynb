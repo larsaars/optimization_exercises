{
 "cells": [
  {
   "cell_type": "code",
   "execution_count": 15,
   "id": "d37f5001-cbff-45c9-a551-8578874a1ef3",
   "metadata": {},
   "outputs": [
    {
     "ename": "ImportError",
     "evalue": "/home/me/miniconda3/lib/python3.10/site-packages/zmq/backend/cython/../../../../.././libstdc++.so.6: version `GLIBCXX_3.4.30' not found (required by /home/me/miniconda3/lib/python3.10/site-packages/ortools/linear_solver/../../ortools/.libs/libortools.so.9)",
     "output_type": "error",
     "traceback": [
      "\u001b[0;31m---------------------------------------------------------------------------\u001b[0m",
      "\u001b[0;31mImportError\u001b[0m                               Traceback (most recent call last)",
      "Cell \u001b[0;32mIn[15], line 2\u001b[0m\n\u001b[1;32m      1\u001b[0m \u001b[38;5;28;01mimport\u001b[39;00m \u001b[38;5;21;01mrequests\u001b[39;00m\n\u001b[0;32m----> 2\u001b[0m \u001b[38;5;28;01mfrom\u001b[39;00m \u001b[38;5;21;01mortools\u001b[39;00m\u001b[38;5;21;01m.\u001b[39;00m\u001b[38;5;21;01mlinear_solver\u001b[39;00m \u001b[38;5;28;01mimport\u001b[39;00m pywraplp\n\u001b[1;32m      3\u001b[0m \u001b[38;5;28;01mfrom\u001b[39;00m \u001b[38;5;21;01mortools\u001b[39;00m\u001b[38;5;21;01m.\u001b[39;00m\u001b[38;5;21;01minit\u001b[39;00m \u001b[38;5;28;01mimport\u001b[39;00m pywrapinit\n",
      "File \u001b[0;32m~/miniconda3/lib/python3.10/site-packages/ortools/linear_solver/pywraplp.py:10\u001b[0m\n\u001b[1;32m      8\u001b[0m \u001b[38;5;66;03m# Import the low-level C/C++ module\u001b[39;00m\n\u001b[1;32m      9\u001b[0m \u001b[38;5;28;01mif\u001b[39;00m __package__ \u001b[38;5;129;01mor\u001b[39;00m \u001b[38;5;124m\"\u001b[39m\u001b[38;5;124m.\u001b[39m\u001b[38;5;124m\"\u001b[39m \u001b[38;5;129;01min\u001b[39;00m \u001b[38;5;18m__name__\u001b[39m:\n\u001b[0;32m---> 10\u001b[0m     \u001b[38;5;28;01mfrom\u001b[39;00m \u001b[38;5;21;01m.\u001b[39;00m \u001b[38;5;28;01mimport\u001b[39;00m _pywraplp\n\u001b[1;32m     11\u001b[0m \u001b[38;5;28;01melse\u001b[39;00m:\n\u001b[1;32m     12\u001b[0m     \u001b[38;5;28;01mimport\u001b[39;00m \u001b[38;5;21;01m_pywraplp\u001b[39;00m\n",
      "\u001b[0;31mImportError\u001b[0m: /home/me/miniconda3/lib/python3.10/site-packages/zmq/backend/cython/../../../../.././libstdc++.so.6: version `GLIBCXX_3.4.30' not found (required by /home/me/miniconda3/lib/python3.10/site-packages/ortools/linear_solver/../../ortools/.libs/libortools.so.9)"
     ]
    }
   ],
   "source": [
    "import requests\n",
    "from ortools.linear_solver import pywraplp\n",
    "from ortools.init import pywrapinit"
   ]
  },
  {
   "cell_type": "code",
   "execution_count": 7,
   "id": "6500d6c6-0a1f-4555-959e-70739bcaea2b",
   "metadata": {},
   "outputs": [],
   "source": [
    "data = requests.get('https://raw.githubusercontent.com/eineruntervielen/vl-optimierung-daten/master/min_set_cover_data.json').json()"
   ]
  },
  {
   "cell_type": "code",
   "execution_count": 9,
   "id": "cd5e93c1-f3eb-4922-8d6b-b8bc1aff8a52",
   "metadata": {},
   "outputs": [
    {
     "data": {
      "text/plain": [
       "{'supplier_0': [3, 4, 5, 8, 24],\n",
       " 'supplier_1': [11, 15, 21, 23],\n",
       " 'supplier_2': [9, 15, 24],\n",
       " 'supplier_3': [9, 13],\n",
       " 'supplier_4': [5, 11, 12, 14, 16, 20],\n",
       " 'supplier_5': [8, 11, 12, 15, 21],\n",
       " 'supplier_6': [1, 4, 18, 20],\n",
       " 'supplier_7': [0, 3, 6, 11, 13, 15, 21, 23],\n",
       " 'supplier_8': [14, 16, 18, 19, 23],\n",
       " 'supplier_9': [2, 7, 16, 22],\n",
       " 'supplier_10': [10, 14, 21],\n",
       " 'supplier_11': [6, 19],\n",
       " 'supplier_12': [4, 10, 24],\n",
       " 'supplier_13': [3, 4, 7, 9, 17],\n",
       " 'supplier_14': [1, 3, 5, 6, 15, 18, 19, 20, 23]}"
      ]
     },
     "execution_count": 9,
     "metadata": {},
     "output_type": "execute_result"
    }
   ],
   "source": [
    "data"
   ]
  },
  {
   "cell_type": "code",
   "execution_count": null,
   "id": "755807ce-9a19-413c-b05f-ddb9ea34a03e",
   "metadata": {},
   "outputs": [],
   "source": []
  }
 ],
 "metadata": {
  "kernelspec": {
   "display_name": "Python 3 (ipykernel)",
   "language": "python",
   "name": "python3"
  },
  "language_info": {
   "codemirror_mode": {
    "name": "ipython",
    "version": 3
   },
   "file_extension": ".py",
   "mimetype": "text/x-python",
   "name": "python",
   "nbconvert_exporter": "python",
   "pygments_lexer": "ipython3",
   "version": "3.10.9"
  }
 },
 "nbformat": 4,
 "nbformat_minor": 5
}
